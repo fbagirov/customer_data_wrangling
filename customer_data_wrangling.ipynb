{
 "cells": [
  {
   "cell_type": "code",
   "execution_count": 1,
   "metadata": {
    "collapsed": false
   },
   "outputs": [],
   "source": [
    "import pandas as pd\n",
    "import matplotlib.pyplot as plt"
   ]
  },
  {
   "cell_type": "code",
   "execution_count": 2,
   "metadata": {
    "collapsed": false,
    "scrolled": true
   },
   "outputs": [],
   "source": [
    "#convert to ascii to get rid of the special characters\n",
    "df = pd.read_excel('data/sample_data.xlsx', encoding=\"ascii\")"
   ]
  },
  {
   "cell_type": "code",
   "execution_count": 3,
   "metadata": {
    "collapsed": false
   },
   "outputs": [
    {
     "data": {
      "text/plain": [
       "Index(['customer_id', 'gender', 'age', 'total_score', 'industry', 'title',\n",
       "       'skills'],\n",
       "      dtype='object')"
      ]
     },
     "execution_count": 3,
     "metadata": {},
     "output_type": "execute_result"
    }
   ],
   "source": [
    "df.columns"
   ]
  },
  {
   "cell_type": "code",
   "execution_count": 4,
   "metadata": {
    "collapsed": false
   },
   "outputs": [
    {
     "data": {
      "text/html": [
       "<div>\n",
       "<table border=\"1\" class=\"dataframe\">\n",
       "  <thead>\n",
       "    <tr style=\"text-align: right;\">\n",
       "      <th></th>\n",
       "      <th>customer_id</th>\n",
       "      <th>gender</th>\n",
       "      <th>age</th>\n",
       "      <th>total_score</th>\n",
       "      <th>industry</th>\n",
       "      <th>title</th>\n",
       "      <th>skills</th>\n",
       "    </tr>\n",
       "  </thead>\n",
       "  <tbody>\n",
       "    <tr>\n",
       "      <th>0</th>\n",
       "      <td>1</td>\n",
       "      <td>NaN</td>\n",
       "      <td>NaN</td>\n",
       "      <td>3.45</td>\n",
       "      <td>Information Technology and Services</td>\n",
       "      <td>NaN</td>\n",
       "      <td>NaN</td>\n",
       "    </tr>\n",
       "    <tr>\n",
       "      <th>1</th>\n",
       "      <td>2</td>\n",
       "      <td>NaN</td>\n",
       "      <td>NaN</td>\n",
       "      <td>3.44</td>\n",
       "      <td>Internet</td>\n",
       "      <td>NaN</td>\n",
       "      <td>NaN</td>\n",
       "    </tr>\n",
       "    <tr>\n",
       "      <th>2</th>\n",
       "      <td>3</td>\n",
       "      <td>NaN</td>\n",
       "      <td>0-0</td>\n",
       "      <td>10.49</td>\n",
       "      <td>NaN</td>\n",
       "      <td>NaN</td>\n",
       "      <td>NaN</td>\n",
       "    </tr>\n",
       "    <tr>\n",
       "      <th>3</th>\n",
       "      <td>4</td>\n",
       "      <td>Male</td>\n",
       "      <td>0-0</td>\n",
       "      <td>3.46</td>\n",
       "      <td>Construction</td>\n",
       "      <td>Functional Architect, Business Technology</td>\n",
       "      <td>SharePoint,Management ,Business Intelligence ,...</td>\n",
       "    </tr>\n",
       "    <tr>\n",
       "      <th>4</th>\n",
       "      <td>5</td>\n",
       "      <td>NaN</td>\n",
       "      <td>NaN</td>\n",
       "      <td>3.45</td>\n",
       "      <td>NaN</td>\n",
       "      <td>NaN</td>\n",
       "      <td>NaN</td>\n",
       "    </tr>\n",
       "  </tbody>\n",
       "</table>\n",
       "</div>"
      ],
      "text/plain": [
       "   customer_id gender  age  total_score                             industry  \\\n",
       "0            1    NaN  NaN         3.45  Information Technology and Services   \n",
       "1            2    NaN  NaN         3.44                             Internet   \n",
       "2            3    NaN  0-0        10.49                                  NaN   \n",
       "3            4   Male  0-0         3.46                         Construction   \n",
       "4            5    NaN  NaN         3.45                                  NaN   \n",
       "\n",
       "                                       title  \\\n",
       "0                                        NaN   \n",
       "1                                        NaN   \n",
       "2                                        NaN   \n",
       "3  Functional Architect, Business Technology   \n",
       "4                                        NaN   \n",
       "\n",
       "                                              skills  \n",
       "0                                                NaN  \n",
       "1                                                NaN  \n",
       "2                                                NaN  \n",
       "3  SharePoint,Management ,Business Intelligence ,...  \n",
       "4                                                NaN  "
      ]
     },
     "execution_count": 4,
     "metadata": {},
     "output_type": "execute_result"
    }
   ],
   "source": [
    "df.head()"
   ]
  },
  {
   "cell_type": "code",
   "execution_count": 5,
   "metadata": {
    "collapsed": false
   },
   "outputs": [
    {
     "data": {
      "text/html": [
       "<div>\n",
       "<table border=\"1\" class=\"dataframe\">\n",
       "  <thead>\n",
       "    <tr style=\"text-align: right;\">\n",
       "      <th></th>\n",
       "      <th>customer_id</th>\n",
       "      <th>total_score</th>\n",
       "    </tr>\n",
       "  </thead>\n",
       "  <tbody>\n",
       "    <tr>\n",
       "      <th>count</th>\n",
       "      <td>5022.000000</td>\n",
       "      <td>5022.000000</td>\n",
       "    </tr>\n",
       "    <tr>\n",
       "      <th>mean</th>\n",
       "      <td>2511.500000</td>\n",
       "      <td>5.853035</td>\n",
       "    </tr>\n",
       "    <tr>\n",
       "      <th>std</th>\n",
       "      <td>1449.870856</td>\n",
       "      <td>3.336261</td>\n",
       "    </tr>\n",
       "    <tr>\n",
       "      <th>min</th>\n",
       "      <td>1.000000</td>\n",
       "      <td>0.450000</td>\n",
       "    </tr>\n",
       "    <tr>\n",
       "      <th>25%</th>\n",
       "      <td>1256.250000</td>\n",
       "      <td>3.430000</td>\n",
       "    </tr>\n",
       "    <tr>\n",
       "      <th>50%</th>\n",
       "      <td>2511.500000</td>\n",
       "      <td>3.470000</td>\n",
       "    </tr>\n",
       "    <tr>\n",
       "      <th>75%</th>\n",
       "      <td>3766.750000</td>\n",
       "      <td>10.460000</td>\n",
       "    </tr>\n",
       "    <tr>\n",
       "      <th>max</th>\n",
       "      <td>5022.000000</td>\n",
       "      <td>10.940000</td>\n",
       "    </tr>\n",
       "  </tbody>\n",
       "</table>\n",
       "</div>"
      ],
      "text/plain": [
       "       customer_id  total_score\n",
       "count  5022.000000  5022.000000\n",
       "mean   2511.500000     5.853035\n",
       "std    1449.870856     3.336261\n",
       "min       1.000000     0.450000\n",
       "25%    1256.250000     3.430000\n",
       "50%    2511.500000     3.470000\n",
       "75%    3766.750000    10.460000\n",
       "max    5022.000000    10.940000"
      ]
     },
     "execution_count": 5,
     "metadata": {},
     "output_type": "execute_result"
    }
   ],
   "source": [
    "df.describe()"
   ]
  },
  {
   "cell_type": "code",
   "execution_count": 6,
   "metadata": {
    "collapsed": false
   },
   "outputs": [
    {
     "name": "stdout",
     "output_type": "stream",
     "text": [
      "<class 'pandas.core.frame.DataFrame'>\n",
      "RangeIndex: 5022 entries, 0 to 5021\n",
      "Data columns (total 7 columns):\n",
      "customer_id    5022 non-null int64\n",
      "gender         757 non-null object\n",
      "age            3009 non-null object\n",
      "total_score    5022 non-null float64\n",
      "industry       4148 non-null object\n",
      "title          2593 non-null object\n",
      "skills         2366 non-null object\n",
      "dtypes: float64(1), int64(1), object(5)\n",
      "memory usage: 274.7+ KB\n"
     ]
    }
   ],
   "source": [
    "df.info()"
   ]
  },
  {
   "cell_type": "code",
   "execution_count": 7,
   "metadata": {
    "collapsed": false
   },
   "outputs": [
    {
     "name": "stdout",
     "output_type": "stream",
     "text": [
      "(5022, 7)\n"
     ]
    }
   ],
   "source": [
    "print(df.shape)"
   ]
  },
  {
   "cell_type": "code",
   "execution_count": 8,
   "metadata": {
    "collapsed": false
   },
   "outputs": [
    {
     "name": "stdout",
     "output_type": "stream",
     "text": [
      "Total NA: 2013\n",
      "NA %: 16.5%\n"
     ]
    }
   ],
   "source": [
    "#check each variable for missing values\n",
    "print(\"Total NA:\", sum(df.age.isnull().values.ravel()))\n",
    "print(\"NA %:\", \"{:.1%}\".format(sum(df.age.isnull().values.ravel())/sum(df.isnull().values.ravel())))"
   ]
  },
  {
   "cell_type": "code",
   "execution_count": 9,
   "metadata": {
    "collapsed": false
   },
   "outputs": [
    {
     "name": "stdout",
     "output_type": "stream",
     "text": [
      "Total NA: 4265\n",
      "NA %: 34.9%\n"
     ]
    }
   ],
   "source": [
    "print(\"Total NA:\", sum(df.gender.isnull().values.ravel()))\n",
    "print(\"NA %:\", \"{:.1%}\".format(sum(df.gender.isnull().values.ravel())/sum(df.isnull().values.ravel())))"
   ]
  },
  {
   "cell_type": "code",
   "execution_count": 10,
   "metadata": {
    "collapsed": false
   },
   "outputs": [
    {
     "name": "stdout",
     "output_type": "stream",
     "text": [
      "Total NA: 874\n",
      "NA %: 7.1%\n"
     ]
    }
   ],
   "source": [
    "print(\"Total NA:\", sum(df.industry.isnull().values))\n",
    "print(\"NA %:\", \"{:.1%}\".format(sum(df.industry.isnull().values.ravel())/sum(df.isnull().values.ravel())))"
   ]
  },
  {
   "cell_type": "code",
   "execution_count": 11,
   "metadata": {
    "collapsed": false
   },
   "outputs": [
    {
     "name": "stdout",
     "output_type": "stream",
     "text": [
      "Total NA: 2429\n",
      "NA %: 19.8%\n"
     ]
    }
   ],
   "source": [
    "print(\"Total NA:\", sum(df.title.isnull().values))\n",
    "print(\"NA %:\", \"{:.1%}\".format(sum(df.title.isnull().values.ravel())/sum(df.isnull().values.ravel())))"
   ]
  },
  {
   "cell_type": "code",
   "execution_count": 12,
   "metadata": {
    "collapsed": false
   },
   "outputs": [
    {
     "name": "stdout",
     "output_type": "stream",
     "text": [
      "Total NA: 2656\n",
      "NA %: 21.7%\n"
     ]
    }
   ],
   "source": [
    "print(\"Total NA:\", sum(df.skills.isnull().values))\n",
    "print(\"NA %:\", \"{:.1%}\".format(sum(df.skills.isnull().values.ravel())/sum(df.isnull().values.ravel())))"
   ]
  },
  {
   "cell_type": "code",
   "execution_count": 13,
   "metadata": {
    "collapsed": true
   },
   "outputs": [],
   "source": [
    "#Cleaning industry"
   ]
  },
  {
   "cell_type": "code",
   "execution_count": 14,
   "metadata": {
    "collapsed": false
   },
   "outputs": [
    {
     "name": "stdout",
     "output_type": "stream",
     "text": [
      "Total rows: (5022, 2)\n",
      "Total NA: [  0 874]\n",
      "NA %: 100.0%\n",
      "Encoding is not a string\n",
      "Encoding is  <class 'pandas.core.series.Series'>\n"
     ]
    }
   ],
   "source": [
    "#slice the industry into a dataframe\n",
    "df_ind = df[['customer_id','industry']] \n",
    "print(\"Total rows:\", df_ind.shape)\n",
    "print(\"Total NA:\", sum(df_ind.isnull().values))\n",
    "print(\"NA %:\", \"{:.1%}\".format(sum(df_ind.isnull().values.ravel())/sum(df_ind.isnull().values.ravel())))\n",
    "if isinstance(df['industry'], str):\n",
    "    print(\"Encoding is ordinary string\")\n",
    "else:\n",
    "    print(\"Encoding is not a string\")\n",
    "    \n",
    "#check the type\n",
    "print(\"Encoding is \", type(df['industry']))\n",
    "df_ind.to_csv('df_ind_initial.csv', sep = ',')"
   ]
  },
  {
   "cell_type": "code",
   "execution_count": 15,
   "metadata": {
    "collapsed": false
   },
   "outputs": [
    {
     "data": {
      "text/plain": [
       "pandas.core.frame.DataFrame"
      ]
     },
     "execution_count": 15,
     "metadata": {},
     "output_type": "execute_result"
    }
   ],
   "source": [
    "type(df_ind)"
   ]
  },
  {
   "cell_type": "code",
   "execution_count": 16,
   "metadata": {
    "collapsed": false
   },
   "outputs": [
    {
     "name": "stdout",
     "output_type": "stream",
     "text": [
      "Total rows: (4148, 2)\n",
      "Total NA: [0 0]\n",
      "NA %: nan%\n"
     ]
    }
   ],
   "source": [
    "#remove missing values\n",
    "\n",
    "df_ind = df_ind[pd.notnull(df_ind['industry'])]\n",
    "\n",
    "print(\"Total rows:\", df_ind.shape)\n",
    "print(\"Total NA:\", sum(df_ind.isnull().values))\n",
    "print(\"NA %:\", \"{:.1%}\".format(sum(df_ind.isnull().values.ravel())/sum(df_ind.isnull().values.ravel())))\n",
    "df_ind.to_csv('df_ind_no_na.csv', sep = ',')"
   ]
  },
  {
   "cell_type": "code",
   "execution_count": 17,
   "metadata": {
    "collapsed": false
   },
   "outputs": [],
   "source": [
    "#remove all '_x000D' and '_x000D_' from the beginning of the values\n",
    "\n",
    "type(df_ind)\n",
    "\n",
    "df_ind['industry'] = df_ind['industry'].str.replace('_x000D_', '')\n",
    "\n",
    "\n",
    "df_ind.to_csv('df_ind_no_x000D.csv', sep = ',')"
   ]
  },
  {
   "cell_type": "code",
   "execution_count": 18,
   "metadata": {
    "collapsed": false
   },
   "outputs": [],
   "source": [
    "#remove all columns with 'http' from the industry\n",
    "df_ind = df_ind[~df_ind['industry'].str.contains('http')]\n",
    "\n",
    "df_ind.to_csv('df_ind_no_http.csv', sep = ',')"
   ]
  },
  {
   "cell_type": "code",
   "execution_count": 19,
   "metadata": {
    "collapsed": false
   },
   "outputs": [],
   "source": [
    "#replace '&' with 'AND'\n",
    "df_ind['industry'] = df_ind['industry'].str.replace(\"&\",\"AND\")\n",
    "df_ind.to_csv('df_ind_no&.csv', sep = ',')"
   ]
  },
  {
   "cell_type": "code",
   "execution_count": 20,
   "metadata": {
    "collapsed": false
   },
   "outputs": [],
   "source": [
    "#convert all to lowercase\n",
    "df_ind['industry'] = df_ind.industry.str.lower()\n",
    "df_ind.head()\n",
    "df_ind.to_csv('df_ind_lower.csv', sep = ',')"
   ]
  },
  {
   "cell_type": "code",
   "execution_count": 21,
   "metadata": {
    "collapsed": false
   },
   "outputs": [],
   "source": [
    "#split by comma\n",
    "df_ind = pd.concat([pd.Series(row['customer_id'], row['industry'].split(','))\n",
    "           for _, row in df_ind.iterrows()]).reset_index()\n",
    "\n",
    "\n",
    "df_ind.to_csv('df_ind_split_comma.csv', sep = ',')"
   ]
  },
  {
   "cell_type": "code",
   "execution_count": 50,
   "metadata": {
    "collapsed": false
   },
   "outputs": [],
   "source": [
    "#add column names\n",
    "column_names = [\"industry\",'customer_id']\n",
    "\n",
    "df_ind.columns = column_names\n",
    "df_ind.to_csv('df_ind_column_names.csv', sep = ',')"
   ]
  },
  {
   "cell_type": "code",
   "execution_count": 71,
   "metadata": {
    "collapsed": false
   },
   "outputs": [],
   "source": [
    "#strip spaces from the industry values\n",
    "df_ind['industry'] = df_ind['industry'].str.strip()\n",
    "\n",
    "df_ind.to_csv('df_ind_stripped_column.csv', sep = ',')"
   ]
  },
  {
   "cell_type": "code",
   "execution_count": 403,
   "metadata": {
    "collapsed": true
   },
   "outputs": [],
   "source": [
    "#add a new column and populate dummy values\n",
    "\n",
    "df_ind['dummies'] = 1\n",
    "\n",
    "\n",
    "df_ind.to_csv('df_ind_add_cols.csv', sep = ',')"
   ]
  },
  {
   "cell_type": "code",
   "execution_count": 404,
   "metadata": {
    "collapsed": false
   },
   "outputs": [],
   "source": [
    "#crosstab to set up for PCA\n",
    "\n",
    "df_ind_cross = pd.crosstab(df_ind.customer_id, df_ind.industry)\n",
    "\n",
    "df_ind_cross.to_csv('df_ind_crosstab.csv', sep = ',')"
   ]
  },
  {
   "cell_type": "code",
   "execution_count": 405,
   "metadata": {
    "collapsed": false
   },
   "outputs": [
    {
     "data": {
      "text/plain": [
       "pandas.core.frame.DataFrame"
      ]
     },
     "execution_count": 405,
     "metadata": {},
     "output_type": "execute_result"
    }
   ],
   "source": [
    "type(df_ind_cross)"
   ]
  },
  {
   "cell_type": "code",
   "execution_count": null,
   "metadata": {
    "collapsed": true
   },
   "outputs": [],
   "source": []
  },
  {
   "cell_type": "code",
   "execution_count": null,
   "metadata": {
    "collapsed": true
   },
   "outputs": [],
   "source": []
  },
  {
   "cell_type": "code",
   "execution_count": null,
   "metadata": {
    "collapsed": true
   },
   "outputs": [],
   "source": []
  },
  {
   "cell_type": "code",
   "execution_count": null,
   "metadata": {
    "collapsed": true
   },
   "outputs": [],
   "source": []
  }
 ],
 "metadata": {
  "anaconda-cloud": {},
  "kernelspec": {
   "display_name": "Python [default]",
   "language": "python",
   "name": "python3"
  },
  "language_info": {
   "codemirror_mode": {
    "name": "ipython",
    "version": 3
   },
   "file_extension": ".py",
   "mimetype": "text/x-python",
   "name": "python",
   "nbconvert_exporter": "python",
   "pygments_lexer": "ipython3",
   "version": "3.5.2"
  }
 },
 "nbformat": 4,
 "nbformat_minor": 1
}
